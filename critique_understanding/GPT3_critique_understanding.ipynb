{
 "cells": [
  {
   "cell_type": "code",
   "execution_count": 1,
   "metadata": {},
   "outputs": [],
   "source": [
    "import pandas as pd\n",
    "import openai\n",
    "\n",
    "openai.api_key = # INSERT YOUR API_KEY HERE"
   ]
  },
  {
   "cell_type": "code",
   "execution_count": 2,
   "metadata": {},
   "outputs": [],
   "source": [
    "domain_prompt = \"\"\"\"It doesn't have a view => I prefer a good view. I don't eat pork => I prefer chicken, fish, lamb or beef. The place seems too noisy => I prefer a more chill place. I don't eat meat => I prefer vegetarian cuisine. It looks cheap => I prefer a fancier place. It looks too greasy for me => I prefer lighter food. That's too expensive => I prefer a more affordable place. I don't like fast food => I prefer healthy cuisine. It doesn't look good for the kids => I prefer a place that is good for the kids. The portion size is way too small for me => I prefer larger portions. It's for a date => I prefer a more romantic place.\"\"\""
   ]
  },
  {
   "cell_type": "code",
   "execution_count": 3,
   "metadata": {},
   "outputs": [
    {
     "name": "stderr",
     "output_type": "stream",
     "text": [
      "/usr/local/lib/python3.7/site-packages/ipykernel_launcher.py:1: FutureWarning: from_csv is deprecated. Please use read_csv(...) instead. Note that some of the default arguments are different, so please refer to the documentation for from_csv when changing your function calls\n",
      "  \"\"\"Entry point for launching an IPython kernel.\n"
     ]
    }
   ],
   "source": [
    "df_queries = pd.DataFrame.from_csv(\"../queries/queries.csv\", sep=';')"
   ]
  },
  {
   "cell_type": "code",
   "execution_count": 4,
   "metadata": {
    "scrolled": true
   },
   "outputs": [
    {
     "name": "stdout",
     "output_type": "stream",
     "text": [
      "I'm too tired and hungry to wait.\n",
      "I prefer faster service.\n",
      "\n",
      "\n"
     ]
    }
   ],
   "source": [
    "results = []\n",
    "\n",
    "for critique in df_queries.index[:340]:\n",
    "    \n",
    "    prompt = domain_prompt\n",
    "    prompt = f\"{prompt} {critique}. => I prefer\"\n",
    "    response = openai.Completion.create(\n",
    "      engine=\"davinci\",\n",
    "      prompt=prompt,\n",
    "      temperature=0.7,\n",
    "      max_tokens=12,\n",
    "      top_p=1,\n",
    "      frequency_penalty=0,\n",
    "      presence_penalty=0\n",
    "    )\n",
    "    positive_pref = f\"I prefer{response['choices'][0]['text'].split('.')[0]}.\"\n",
    "    results.append({'critique' : critique, 'preference' : positive_pref})\n",
    "    \n",
    "    print(critique)\n",
    "    print(positive_pref)\n",
    "    print('\\n')"
   ]
  },
  {
   "cell_type": "code",
   "execution_count": 5,
   "metadata": {},
   "outputs": [],
   "source": [
    "df_results = pd.DataFrame(results)"
   ]
  },
  {
   "cell_type": "code",
   "execution_count": 6,
   "metadata": {},
   "outputs": [
    {
     "data": {
      "text/html": [
       "<div>\n",
       "<style scoped>\n",
       "    .dataframe tbody tr th:only-of-type {\n",
       "        vertical-align: middle;\n",
       "    }\n",
       "\n",
       "    .dataframe tbody tr th {\n",
       "        vertical-align: top;\n",
       "    }\n",
       "\n",
       "    .dataframe thead th {\n",
       "        text-align: right;\n",
       "    }\n",
       "</style>\n",
       "<table border=\"1\" class=\"dataframe\">\n",
       "  <thead>\n",
       "    <tr style=\"text-align: right;\">\n",
       "      <th></th>\n",
       "      <th>critique</th>\n",
       "      <th>preference</th>\n",
       "    </tr>\n",
       "  </thead>\n",
       "  <tbody>\n",
       "    <tr>\n",
       "      <th>0</th>\n",
       "      <td>I'm too tired and hungry to wait.</td>\n",
       "      <td>I prefer faster service.</td>\n",
       "    </tr>\n",
       "  </tbody>\n",
       "</table>\n",
       "</div>"
      ],
      "text/plain": [
       "                            critique                preference\n",
       "0  I'm too tired and hungry to wait.  I prefer faster service."
      ]
     },
     "execution_count": 6,
     "metadata": {},
     "output_type": "execute_result"
    }
   ],
   "source": [
    "df_results"
   ]
  },
  {
   "cell_type": "code",
   "execution_count": 30,
   "metadata": {},
   "outputs": [],
   "source": [
    "df_results.to_csv(\"../queries/Jupyter_output.csv\")"
   ]
  }
 ],
 "metadata": {
  "kernelspec": {
   "display_name": "Python 3",
   "language": "python",
   "name": "python3"
  },
  "language_info": {
   "codemirror_mode": {
    "name": "ipython",
    "version": 3
   },
   "file_extension": ".py",
   "mimetype": "text/x-python",
   "name": "python",
   "nbconvert_exporter": "python",
   "pygments_lexer": "ipython3",
   "version": "3.7.6"
  }
 },
 "nbformat": 4,
 "nbformat_minor": 4
}
